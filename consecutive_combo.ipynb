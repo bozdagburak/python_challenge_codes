{
 "cells": [
  {
   "cell_type": "code",
   "execution_count": 165,
   "metadata": {},
   "outputs": [],
   "source": [
    "# Write a function that returns True if two lists, when combined, form a consecutive sequence.\n",
    "\n",
    "def consecutive_combo(lst1, lst2):\n",
    "    \n",
    "    c = sorted(list(set(lst1) | set(lst2)))\n",
    "    first = ((c[0] - 1) * c[0]) / 2\n",
    "    last = (c[-1] * (c[-1] + 1)) / 2\n",
    "    length = len(c)\n",
    "    \n",
    "    if c[0] != 1:\n",
    "        return True if last - first == sum(c) else False     \n",
    "         \n",
    "    else:\n",
    "        return True if (length * (length + 1)) / 2 == sum(c) else False"
   ]
  },
  {
   "cell_type": "code",
   "execution_count": 166,
   "metadata": {},
   "outputs": [
    {
     "name": "stdout",
     "output_type": "stream",
     "text": [
      "True\n",
      "False\n",
      "False\n",
      "True\n"
     ]
    }
   ],
   "source": [
    "print(consecutive_combo([7, 4, 5, 1], [2, 3, 6]))\n",
    "print(consecutive_combo([1, 4, 6, 5], [2, 7, 8, 9]))\n",
    "print(consecutive_combo([1, 4, 5, 6], [2, 3, 7, 8, 10]))\n",
    "print(consecutive_combo([44, 46], [45]))"
   ]
  }
 ],
 "metadata": {
  "kernelspec": {
   "display_name": "Python 3",
   "language": "python",
   "name": "python3"
  },
  "language_info": {
   "codemirror_mode": {
    "name": "ipython",
    "version": 3
   },
   "file_extension": ".py",
   "mimetype": "text/x-python",
   "name": "python",
   "nbconvert_exporter": "python",
   "pygments_lexer": "ipython3",
   "version": "3.7.4"
  }
 },
 "nbformat": 4,
 "nbformat_minor": 2
}
