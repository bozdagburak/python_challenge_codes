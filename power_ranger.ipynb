{
 "cells": [
  {
   "cell_type": "code",
   "execution_count": 144,
   "metadata": {},
   "outputs": [],
   "source": [
    "# Create a function that takes in n, a, b and returns the number of values\n",
    "# raised to the nth power that lie in the range [a, b], inclusive.\n",
    "\n",
    "def power_ranger(power, minimum, maximum):\n",
    "    count = []\n",
    "    for i in range(1, int(maximum**(1/power)+1)):\n",
    "        if minimum <= i**power <= maximum:\n",
    "            count.append(i)\n",
    "    return len(count)    "
   ]
  },
  {
   "cell_type": "code",
   "execution_count": 145,
   "metadata": {},
   "outputs": [
    {
     "name": "stdout",
     "output_type": "stream",
     "text": [
      "2\n",
      "3\n",
      "1\n"
     ]
    }
   ],
   "source": [
    "print(power_ranger(2, 49, 65))\n",
    "\n",
    "print(power_ranger(3, 1, 27))\n",
    "\n",
    "print(power_ranger(10, 1, 5))"
   ]
  }
 ],
 "metadata": {
  "kernelspec": {
   "display_name": "Python 3",
   "language": "python",
   "name": "python3"
  },
  "language_info": {
   "codemirror_mode": {
    "name": "ipython",
    "version": 3
   },
   "file_extension": ".py",
   "mimetype": "text/x-python",
   "name": "python",
   "nbconvert_exporter": "python",
   "pygments_lexer": "ipython3",
   "version": "3.7.4"
  }
 },
 "nbformat": 4,
 "nbformat_minor": 2
}
