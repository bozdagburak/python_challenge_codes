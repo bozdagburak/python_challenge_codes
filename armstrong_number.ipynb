{
 "cells": [
  {
   "cell_type": "code",
   "execution_count": 1,
   "metadata": {},
   "outputs": [
    {
     "name": "stdout",
     "output_type": "stream",
     "text": [
      "enter a positive integer number: 371\n",
      "371 is an Armstrong number\n"
     ]
    }
   ],
   "source": [
    "number = input(\"enter a positive integer number: \")\n",
    "\n",
    "liste = list(number)\n",
    "i = 0\n",
    "value = 0\n",
    "\n",
    "if number.isdigit():\n",
    "    \n",
    "    for i in range(len(liste)):\n",
    "        \n",
    "        value += int(liste[i]) ** len(liste)\n",
    "\n",
    "        i += 1\n",
    "\n",
    "    if value == int(number):\n",
    "\n",
    "            print(f\"{number} is an Armstrong number\")\n",
    "\n",
    "    else:\n",
    "\n",
    "            print(f\"{number} is not an Armstrong number\")   \n",
    "\n",
    "else:\n",
    "\n",
    "    print(\"It is an invalid entry. Don't use non-numeric, float, or negative values!\")"
   ]
  }
 ],
 "metadata": {
  "kernelspec": {
   "display_name": "Python 3",
   "language": "python",
   "name": "python3"
  },
  "language_info": {
   "codemirror_mode": {
    "name": "ipython",
    "version": 3
   },
   "file_extension": ".py",
   "mimetype": "text/x-python",
   "name": "python",
   "nbconvert_exporter": "python",
   "pygments_lexer": "ipython3",
   "version": "3.7.4"
  }
 },
 "nbformat": 4,
 "nbformat_minor": 2
}
