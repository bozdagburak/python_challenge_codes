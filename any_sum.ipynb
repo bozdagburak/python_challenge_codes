{
 "cells": [
  {
   "cell_type": "code",
   "execution_count": 41,
   "metadata": {},
   "outputs": [
    {
     "data": {
      "text/plain": [
       "True"
      ]
     },
     "execution_count": 41,
     "metadata": {},
     "output_type": "execute_result"
    }
   ],
   "source": [
    "# Given a list of numbers and a number k, \n",
    "# return whether any two numbers from the list add up to k.\n",
    "# For example, given [10, 15, 3, 7] and k of 17, \n",
    "# return true since 10 + 7 is 17.\n",
    "\n",
    "\n",
    "def any_sum(given_list, k):\n",
    "    return k in [i+j for j in given_list for i in given_list]\n",
    "\n",
    "any_sum([10, 15, 3, 7], 17)"
   ]
  }
 ],
 "metadata": {
  "kernelspec": {
   "display_name": "Python 3",
   "language": "python",
   "name": "python3"
  },
  "language_info": {
   "codemirror_mode": {
    "name": "ipython",
    "version": 3
   },
   "file_extension": ".py",
   "mimetype": "text/x-python",
   "name": "python",
   "nbconvert_exporter": "python",
   "pygments_lexer": "ipython3",
   "version": "3.7.4"
  }
 },
 "nbformat": 4,
 "nbformat_minor": 2
}
