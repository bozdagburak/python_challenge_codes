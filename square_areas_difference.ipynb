{
 "cells": [
  {
   "cell_type": "code",
   "execution_count": 17,
   "metadata": {},
   "outputs": [
    {
     "name": "stdout",
     "output_type": "stream",
     "text": [
      "50-72-98\n"
     ]
    }
   ],
   "source": [
    "# Imagine a circle and two squares: a smaller and a bigger one. For the smaller one, the circle is a circumcircle and for the bigger one, an incircle.\n",
    "\n",
    "# Create a function, that takes an integer (radius of the circle) and returns the difference of the areas of the two squares.\n",
    "\n",
    "def square_areas_difference(r):\n",
    "    return (2 * r) ** 2 - round(((2 * r) / 2 ** 0.5)**2)\n",
    "\n",
    "print(square_areas_difference(5), end = \"-\")\n",
    "print(square_areas_difference(6), end = \"-\")\n",
    "print(square_areas_difference(7))"
   ]
  }
 ],
 "metadata": {
  "kernelspec": {
   "display_name": "Python 3",
   "language": "python",
   "name": "python3"
  },
  "language_info": {
   "codemirror_mode": {
    "name": "ipython",
    "version": 3
   },
   "file_extension": ".py",
   "mimetype": "text/x-python",
   "name": "python",
   "nbconvert_exporter": "python",
   "pygments_lexer": "ipython3",
   "version": "3.7.4"
  }
 },
 "nbformat": 4,
 "nbformat_minor": 2
}
