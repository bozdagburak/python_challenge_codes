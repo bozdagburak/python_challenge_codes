{
 "cells": [
  {
   "cell_type": "code",
   "execution_count": 13,
   "metadata": {},
   "outputs": [
    {
     "name": "stdout",
     "output_type": "stream",
     "text": [
      "{3: 4, 4: 2, 5: 2}\n",
      "the most frequent number is: 3\n"
     ]
    }
   ],
   "source": [
    "# Given a list, return the most frequent (repeating) element.\n",
    "\n",
    "def most_freq(lst):\n",
    "    s = set(lst)\n",
    "    counter = 1\n",
    "    d = {}\n",
    "    for i in lst:\n",
    "        if i in s:\n",
    "            s.remove(i)\n",
    "        else:\n",
    "            if i not in d.keys():\n",
    "                counter = 1\n",
    "            counter += 1\n",
    "            d[i] = counter\n",
    "    print(d)\n",
    "    print(f\"the most frequent number is: {max(d, key = d.get)}\")\n",
    "    \n",
    "most_freq([1,2,3,3,3,3,4,4,5,5])"
   ]
  }
 ],
 "metadata": {
  "kernelspec": {
   "display_name": "Python 3",
   "language": "python",
   "name": "python3"
  },
  "language_info": {
   "codemirror_mode": {
    "name": "ipython",
    "version": 3
   },
   "file_extension": ".py",
   "mimetype": "text/x-python",
   "name": "python",
   "nbconvert_exporter": "python",
   "pygments_lexer": "ipython3",
   "version": "3.7.4"
  }
 },
 "nbformat": 4,
 "nbformat_minor": 2
}
