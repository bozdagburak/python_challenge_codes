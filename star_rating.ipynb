{
 "cells": [
  {
   "cell_type": "code",
   "execution_count": 125,
   "metadata": {},
   "outputs": [
    {
     "name": "stdout",
     "output_type": "stream",
     "text": [
      "'3.15] ***'\n"
     ]
    }
   ],
   "source": [
    "# Given a list of five values, calculate the average star rating, \n",
    "# rounded to two decimal places. The list contains user votes per star, \n",
    "# so the first element [0] contains the number of 1-star ratings and the \n",
    "# last element [4], the number of 5-star ratings.\n",
    "\n",
    "def star_rating(lst):\n",
    "    count = 0\n",
    "    count1 = 0\n",
    "    for i in lst:\n",
    "        count += i * (lst.index(i) + 1)\n",
    "        count1 += i\n",
    "    print(f\"'{count/count1:.2f}] {(round(count/count1)* '*')}'\")\n",
    "\n",
    "star_rating([55, 67, 98, 115, 61])"
   ]
  }
 ],
 "metadata": {
  "kernelspec": {
   "display_name": "Python 3",
   "language": "python",
   "name": "python3"
  },
  "language_info": {
   "codemirror_mode": {
    "name": "ipython",
    "version": 3
   },
   "file_extension": ".py",
   "mimetype": "text/x-python",
   "name": "python",
   "nbconvert_exporter": "python",
   "pygments_lexer": "ipython3",
   "version": "3.7.4"
  }
 },
 "nbformat": 4,
 "nbformat_minor": 2
}
