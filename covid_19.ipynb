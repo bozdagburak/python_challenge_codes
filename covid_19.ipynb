{
 "cells": [
  {
   "cell_type": "code",
   "execution_count": 1,
   "metadata": {},
   "outputs": [
    {
     "name": "stdout",
     "output_type": "stream",
     "text": [
      "Are you a cigarette addict older than 75 years old? just say yes or no. :  no\n",
      "Do you have a severe chronic disease? just say yes or no. :  no\n",
      "Is your immune system too weak? just say yes or no. :  yes\n",
      "You are in risky group\n"
     ]
    }
   ],
   "source": [
    "age = input(\"Are you a cigarette addict older than 75 years old? just say yes or no. :  \").lower().strip()\n",
    "\n",
    "if age == \"yes\":\n",
    "    age = True\n",
    "elif age ==\"no\":\n",
    "    age = False\n",
    "\n",
    "chronic = input(\"Do you have a severe chronic disease? just say yes or no. :  \").lower().strip()\n",
    "\n",
    "if chronic == \"yes\":\n",
    "    chronic = True\n",
    "elif chronic ==\"no\":\n",
    "    chronic = False\n",
    "\n",
    "immune = input(\"Is your immune system too weak? just say yes or no. :  \").lower().strip()\n",
    "\n",
    "if immune == \"yes\":\n",
    "    immune = True\n",
    "elif immune ==\"no\":\n",
    "    immune = False\n",
    "\n",
    "risk = age or chronic or immune\n",
    "\n",
    "if risk:\n",
    "    print(\"You are in risky group\")\n",
    "else:\n",
    "    print(\"You are not in risky group\")"
   ]
  }
 ],
 "metadata": {
  "kernelspec": {
   "display_name": "Python 3",
   "language": "python",
   "name": "python3"
  },
  "language_info": {
   "codemirror_mode": {
    "name": "ipython",
    "version": 3
   },
   "file_extension": ".py",
   "mimetype": "text/x-python",
   "name": "python",
   "nbconvert_exporter": "python",
   "pygments_lexer": "ipython3",
   "version": "3.7.4"
  }
 },
 "nbformat": 4,
 "nbformat_minor": 2
}
