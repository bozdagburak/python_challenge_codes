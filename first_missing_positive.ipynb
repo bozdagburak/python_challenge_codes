{
 "cells": [
  {
   "cell_type": "code",
   "execution_count": 14,
   "metadata": {},
   "outputs": [
    {
     "data": {
      "text/plain": [
       "3"
      ]
     },
     "execution_count": 14,
     "metadata": {},
     "output_type": "execute_result"
    }
   ],
   "source": [
    "\n",
    "# Given an array of integers, find the first missing positive integer in linear time and constant space. \n",
    "# In other words, find the lowest positive integer that does not exist in the array. \n",
    "# The array can contain duplicates and negative numbers as well.\n",
    "# For example, the input [3, 4, -1, 1] should give 2. The input [1, 2, 0] should give 3.\n",
    "\n",
    "def first_missing_positive(lst):\n",
    "    a = sorted([i for i in lst if i > 0])\n",
    "    return [i+1 for i in a if i+1 not in a][0]\n",
    "\n",
    "first_missing_positive([-3,1,87,2,5,7])"
   ]
  }
 ],
 "metadata": {
  "kernelspec": {
   "display_name": "Python 3",
   "language": "python",
   "name": "python3"
  },
  "language_info": {
   "codemirror_mode": {
    "name": "ipython",
    "version": 3
   },
   "file_extension": ".py",
   "mimetype": "text/x-python",
   "name": "python",
   "nbconvert_exporter": "python",
   "pygments_lexer": "ipython3",
   "version": "3.7.4"
  }
 },
 "nbformat": 4,
 "nbformat_minor": 2
}
