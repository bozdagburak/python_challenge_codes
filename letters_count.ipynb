{
 "cells": [
  {
   "cell_type": "code",
   "execution_count": 3,
   "metadata": {},
   "outputs": [
    {
     "name": "stdout",
     "output_type": "stream",
     "text": [
      "enter a sentence: welcome to my github!\n",
      "{'w': 1, 'e': 2, 'o': 2, 'l': 1, 'u': 1, 'c': 1, 'h': 1, 'm': 2, 'i': 1, 'b': 1, 'g': 1, '!': 1, ' ': 3, 'y': 1, 't': 2}\n"
     ]
    }
   ],
   "source": [
    "sentence = input(\"enter a sentence: \")\n",
    "\n",
    "b = {}\n",
    "\n",
    "for i in set(sentence):\n",
    "    b[i] = sentence.count(i)\n",
    "\n",
    "print(b)"
   ]
  }
 ],
 "metadata": {
  "kernelspec": {
   "display_name": "Python 3",
   "language": "python",
   "name": "python3"
  },
  "language_info": {
   "codemirror_mode": {
    "name": "ipython",
    "version": 3
   },
   "file_extension": ".py",
   "mimetype": "text/x-python",
   "name": "python",
   "nbconvert_exporter": "python",
   "pygments_lexer": "ipython3",
   "version": "3.7.4"
  }
 },
 "nbformat": 4,
 "nbformat_minor": 2
}
