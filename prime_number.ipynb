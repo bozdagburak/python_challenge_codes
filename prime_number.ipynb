{
 "cells": [
  {
   "cell_type": "code",
   "execution_count": 2,
   "metadata": {},
   "outputs": [
    {
     "name": "stdout",
     "output_type": "stream",
     "text": [
      "enter a positive number: 17\n",
      "17 is a prime number.\n"
     ]
    }
   ],
   "source": [
    "n = int(input(\"enter a positive number: \"))\n",
    "\n",
    "count = 0\n",
    "\n",
    "for i in range (1, n+1):\n",
    "    if n % i == 0:\n",
    "        count += 1\n",
    "if count == 2:\n",
    "    print(f\"{n} is a prime number.\")\n",
    "elif n == 0 or n == 1:\n",
    "    print(f\"{n} is not a prime number.\")\n",
    "else:\n",
    "    print(f\"{n} is not a prime number.\")"
   ]
  }
 ],
 "metadata": {
  "kernelspec": {
   "display_name": "Python 3",
   "language": "python",
   "name": "python3"
  },
  "language_info": {
   "codemirror_mode": {
    "name": "ipython",
    "version": 3
   },
   "file_extension": ".py",
   "mimetype": "text/x-python",
   "name": "python",
   "nbconvert_exporter": "python",
   "pygments_lexer": "ipython3",
   "version": "3.7.4"
  }
 },
 "nbformat": 4,
 "nbformat_minor": 2
}
